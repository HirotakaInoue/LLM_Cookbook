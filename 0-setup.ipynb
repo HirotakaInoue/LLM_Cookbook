{
 "cells": [
  {
   "cell_type": "code",
   "execution_count": 9,
   "id": "752d447f-68c2-4bde-aae8-eaef64a88e8b",
   "metadata": {},
   "outputs": [],
   "source": [
    "import os\n",
    "OPENAI_API_KEY = \"code\""
   ]
  },
  {
   "cell_type": "code",
   "execution_count": null,
   "id": "c6e5063f-2765-4360-87b9-ec313f328b42",
   "metadata": {},
   "outputs": [],
   "source": [
    "! pip install langchain"
   ]
  }
 ],
 "metadata": {
  "kernelspec": {
   "display_name": "Python 3 (ipykernel)",
   "language": "python",
   "name": "python3"
  },
  "language_info": {
   "codemirror_mode": {
    "name": "ipython",
    "version": 3
   },
   "file_extension": ".py",
   "mimetype": "text/x-python",
   "name": "python",
   "nbconvert_exporter": "python",
   "pygments_lexer": "ipython3",
   "version": "3.11.6"
  }
 },
 "nbformat": 4,
 "nbformat_minor": 5
}
