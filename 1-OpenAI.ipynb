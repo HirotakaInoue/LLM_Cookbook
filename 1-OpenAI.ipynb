{
 "cells": [
  {
   "cell_type": "markdown",
   "id": "14c1a63a-cf77-48c8-a5f7-5fb21d4e5222",
   "metadata": {},
   "source": [
    "# LangChainからOpenAIのAPIを使用する"
   ]
  },
  {
   "cell_type": "code",
   "execution_count": null,
   "id": "da2df63a-cc75-40b6-9c62-c54a52cc7119",
   "metadata": {},
   "outputs": [],
   "source": [
    "import os\n",
    "os.environ[\"OPENAI_API_KEY\"] = \"YOUR_API_KEY\""
   ]
  },
  {
   "cell_type": "code",
   "execution_count": null,
   "id": "8286333f-50d7-4cfd-a893-fb6319792598",
   "metadata": {
    "scrolled": true
   },
   "outputs": [],
   "source": [
    "! pip install langchain\n",
    "! pip install openai"
   ]
  },
  {
   "cell_type": "code",
   "execution_count": null,
   "id": "cdcc538f-a9ed-4974-8fa3-4fdb8dc82c8f",
   "metadata": {},
   "outputs": [],
   "source": [
    "from langchain.chat_models import ChatOpenAI"
   ]
  },
  {
   "cell_type": "code",
   "execution_count": null,
   "id": "c49eaa86-7f7e-4470-933a-3e57f35b8611",
   "metadata": {},
   "outputs": [],
   "source": [
    "chat_model = ChatOpenAI()"
   ]
  },
  {
   "cell_type": "code",
   "execution_count": null,
   "id": "5558e8bd-297d-4457-b50b-c0ab9708dd9e",
   "metadata": {},
   "outputs": [],
   "source": [
    "result = chat_model.invoke(\"こんにちは、あなたの名前は？\")\n",
    "print(result.content)"
   ]
  }
 ],
 "metadata": {
  "kernelspec": {
   "display_name": "Python 3 (ipykernel)",
   "language": "python",
   "name": "python3"
  },
  "language_info": {
   "codemirror_mode": {
    "name": "ipython",
    "version": 3
   },
   "file_extension": ".py",
   "mimetype": "text/x-python",
   "name": "python",
   "nbconvert_exporter": "python",
   "pygments_lexer": "ipython3",
   "version": "3.11.6"
  }
 },
 "nbformat": 4,
 "nbformat_minor": 5
}
