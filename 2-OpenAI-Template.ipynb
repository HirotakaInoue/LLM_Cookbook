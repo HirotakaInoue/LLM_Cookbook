{
 "cells": [
  {
   "cell_type": "markdown",
   "id": "37d2f9a6-71f9-4ea2-bd36-aa6cf0c82edb",
   "metadata": {},
   "source": [
    "# LangChainのテンプレート機能を使用して、OpenAIを使用する"
   ]
  },
  {
   "cell_type": "code",
   "execution_count": null,
   "id": "81e01b45-9a90-4e7d-933a-9f0f467c8f1a",
   "metadata": {},
   "outputs": [],
   "source": [
    "import os\n",
    "os.environ[\"OPENAI_API_KEY\"] = \"YOUR_API_KEY\""
   ]
  },
  {
   "cell_type": "code",
   "execution_count": null,
   "id": "30f09a70-6269-46d0-8612-c1121bb9cd54",
   "metadata": {
    "scrolled": true
   },
   "outputs": [],
   "source": [
    "!pip install langchain\n",
    "!pip install openai"
   ]
  },
  {
   "cell_type": "code",
   "execution_count": null,
   "id": "18e08ab7-ee65-425c-bb6a-dffbdbafc480",
   "metadata": {},
   "outputs": [],
   "source": [
    "from langchain.prompts import ChatPromptTemplate\n",
    "from langchain.chat_models import ChatOpenAI"
   ]
  },
  {
   "cell_type": "code",
   "execution_count": null,
   "id": "d2fc2f27-0530-4381-ae8c-ae4ab6b72d24",
   "metadata": {},
   "outputs": [],
   "source": [
    "model = ChatOpenAI()\n",
    "prompt = ChatPromptTemplate.from_template(\"{topic}について簡潔に説明して下さい。\")\n",
    "chain = prompt | model"
   ]
  },
  {
   "cell_type": "code",
   "execution_count": null,
   "id": "a50a5ed3-32b5-4eed-95e3-e2d447c57a4a",
   "metadata": {},
   "outputs": [],
   "source": [
    "result = chain.invoke({\"topic\":\"LargeLanguageModel\"})\n",
    "print(result.content)"
   ]
  }
 ],
 "metadata": {
  "kernelspec": {
   "display_name": "Python 3 (ipykernel)",
   "language": "python",
   "name": "python3"
  },
  "language_info": {
   "codemirror_mode": {
    "name": "ipython",
    "version": 3
   },
   "file_extension": ".py",
   "mimetype": "text/x-python",
   "name": "python",
   "nbconvert_exporter": "python",
   "pygments_lexer": "ipython3",
   "version": "3.11.6"
  }
 },
 "nbformat": 4,
 "nbformat_minor": 5
}
